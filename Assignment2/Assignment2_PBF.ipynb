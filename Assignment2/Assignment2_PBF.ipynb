{
 "cells": [
  {
   "attachments": {},
   "cell_type": "markdown",
   "metadata": {},
   "source": [
    "# The Definition of Const in JavaScript\n",
    "\n",
    "Commonly, if we make one variable in javascript we didn’t realize that one variable was already made previously but then we input it with different value. Const in javascript stands for constant. Const has a function to make a variable in javascript but we can’t change it with the other value which means it static and read-only variable.\n",
    "\n",
    "Variable const value should assigned directly right after we declare the variable which make this type of variable different from the other variable. Const didn’t allow reassign and redeclare. For instance, we want to declare 'PI' in mathematics which means 'PI' itself is  a constant reference to a value. It means if you declare a const variable that holds an object or an array, you can still modify the properties or elements of that object or array.\n",
    "\n",
    "For Example:\n",
    "\n",
    "const newObj = { name: 'Afrizal', age: 21 };\n",
    "\n",
    "newObj.age = 21; // This is allowed\n",
    "\n",
    "newObj = { name: 'Luna', age: 19 }; // This is not allowed\n",
    "\n",
    "In the example above, newObj is declared as a constant variable which holds an object with name and age properties. You cannot reassign newObj to a new object, but you can still modify the values of its properties.\n",
    "\n",
    "In conclusion, const is a keyword used to declare a variable that cannot be reassigned or redeclared, and it used to creating a constant reference to a value."
   ]
  },
  {
   "attachments": {},
   "cell_type": "markdown",
   "metadata": {},
   "source": [
    "# The Definition of Import All in JavaScript\n",
    "\n"
   ]
  },
  {
   "attachments": {},
   "cell_type": "markdown",
   "metadata": {},
   "source": [
    "Import All statement in JavaScript is not a standalone feature. But, we can get similar functionality using the 'import * as' syntax.\n",
    "When we use 'import * as' syntax, we can import all the exported members of a module as a single object. For instance,\n",
    "you can import all the exported members of a module as a single object.\n",
    "\n",
    "For example:\n",
    "\n",
    "import * as myObject from './myObject.js';\n",
    "\n",
    "in above example, myObject is an object that contains all the exported members of the myObject.js module. You can then access those members using dot notation."
   ]
  },
  {
   "cell_type": "markdown",
   "metadata": {},
   "source": []
  }
 ],
 "metadata": {
  "language_info": {
   "name": "python"
  },
  "orig_nbformat": 4
 },
 "nbformat": 4,
 "nbformat_minor": 2
}
